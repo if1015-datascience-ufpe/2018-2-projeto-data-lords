{
 "cells": [
  {
   "cell_type": "code",
   "execution_count": 2,
   "metadata": {},
   "outputs": [],
   "source": [
    "import pandas as pd\n",
    "import numpy as np\n",
    "import json\n",
    "import math\n",
    "import re"
   ]
  },
  {
   "cell_type": "markdown",
   "metadata": {},
   "source": [
    "# Leitura dos csvs"
   ]
  },
  {
   "cell_type": "code",
   "execution_count": 109,
   "metadata": {},
   "outputs": [],
   "source": [
    "acidents_data = pd.read_csv('data/acidentes-2016.csv', sep=';')"
   ]
  },
  {
   "cell_type": "code",
   "execution_count": 88,
   "metadata": {},
   "outputs": [],
   "source": [
    "ender_semaf = pd.read_excel('data/semaforos.xlsx')"
   ]
  },
  {
   "cell_type": "code",
   "execution_count": 90,
   "metadata": {},
   "outputs": [],
   "source": [
    "eletronic_spine = pd.read_excel('data/lombadas.xls', header=None, names=['Endereco_detalhado'])"
   ]
  },
  {
   "cell_type": "code",
   "execution_count": 92,
   "metadata": {},
   "outputs": [],
   "source": [
    "sparrow = pd.read_excel('data/pardais.xls')"
   ]
  },
  {
   "cell_type": "code",
   "execution_count": 94,
   "metadata": {},
   "outputs": [],
   "source": [
    "bike_path = pd.read_csv('data/cicloviasimplantadas.csv', sep=';')"
   ]
  },
  {
   "cell_type": "markdown",
   "metadata": {},
   "source": [
    "# Tratamento dos dados"
   ]
  },
  {
   "cell_type": "markdown",
   "metadata": {},
   "source": [
    "#### Transformando colunas LOCAL, TIPO_ACID E REGIAO em categóricos"
   ]
  },
  {
   "cell_type": "code",
   "execution_count": 12,
   "metadata": {
    "scrolled": true
   },
   "outputs": [],
   "source": [
    "acidents_data['LOCAL'] = acidents_data['LOCAL'].astype('category') # Cruzamento ou Logradouro\n",
    "acidents_data['TIPO_ACID'] = acidents_data['TIPO_ACID'].astype('category') # ATROPELAMENTO, ABALROAMENTO, CHOQUE, COLISAO\n",
    "acidents_data['REGIAO'] = acidents_data['REGIAO'].astype('category') # Sul, Leste, Centro, Norte, Oeste"
   ]
  },
  {
   "cell_type": "markdown",
   "metadata": {},
   "source": [
    "Pegar o mês referente ao número do csv no campo MES"
   ]
  },
  {
   "cell_type": "code",
   "execution_count": 13,
   "metadata": {},
   "outputs": [],
   "source": [
    "def numberToMonth(number):\n",
    "    month = {1: 'Janeiro', 2: 'Fevereiro', 3: 'Março', 4: 'Abril', 5: 'Maio', 6: 'Junho', 7: 'Julho', \n",
    "         8: 'Agosto', 9: 'Setembro', 10: 'Outubro', 11: 'Novembro', 12: 'Dezembro'}\n",
    "    return month[number]"
   ]
  },
  {
   "cell_type": "code",
   "execution_count": 14,
   "metadata": {},
   "outputs": [
    {
     "data": {
      "text/plain": [
       "0    Janeiro\n",
       "1    Janeiro\n",
       "2    Janeiro\n",
       "3    Janeiro\n",
       "4    Janeiro\n",
       "Name: MES, dtype: object"
      ]
     },
     "execution_count": 14,
     "metadata": {},
     "output_type": "execute_result"
    }
   ],
   "source": [
    "acidents_data['MES'] = acidents_data['MES'].apply(lambda number: numberToMonth(number))\n",
    "acidents_data['MES'].head(5)"
   ]
  },
  {
   "cell_type": "markdown",
   "metadata": {},
   "source": [
    "Pegar somente a hora do acidente"
   ]
  },
  {
   "cell_type": "code",
   "execution_count": 34,
   "metadata": {},
   "outputs": [
    {
     "data": {
      "text/plain": [
       "0    14\n",
       "1    16\n",
       "2    16\n",
       "3    05\n",
       "4    12\n",
       "Name: HORA_ACID, dtype: object"
      ]
     },
     "execution_count": 34,
     "metadata": {},
     "output_type": "execute_result"
    }
   ],
   "source": [
    "def getHour(h):\n",
    "    if h is not np.nan:\n",
    "        return re.match(r'(.*):.*', h).groups()[0]\n",
    "    else:\n",
    "        return np.nan\n",
    "acidents_data['HORA_ACID'] = acidents_data['HORA'].apply(lambda hour: getHour(hour))\n",
    "acidents_data['HORA_ACID'].head(5)"
   ]
  },
  {
   "cell_type": "markdown",
   "metadata": {},
   "source": [
    "Metodo 'remove_accents' retira os acentos das letras, utilizado para retirar os acentos dos endereços para a tentativa de um possível casamento com os endereços do acidentes.\n",
    "E leitura do dataset de semáforos separando os endereços dos cruzamentos em dois endereços separados em Log1 e Log2."
   ]
  },
  {
   "cell_type": "code",
   "execution_count": 36,
   "metadata": {},
   "outputs": [],
   "source": [
    "def remove_accents(word):\n",
    "    word = word.lower()\n",
    "    word = word.replace('ç','c')\n",
    "    word = word.replace('ó','o')\n",
    "    word = word.replace('ô','o')\n",
    "    word = word.replace('ò','o')\n",
    "    word = word.replace('õ','o')\n",
    "    word = word.replace('á','a')\n",
    "    word = word.replace('à','a')\n",
    "    word = word.replace('â','a')\n",
    "    word = word.replace('ã','a')\n",
    "    word = word.replace('é','e')\n",
    "    word = word.replace('è','e')\n",
    "    word = word.replace('ê','e')\n",
    "    word = word.replace('í','i')\n",
    "    word = word.replace('ì','i')\n",
    "    word = word.replace('ú','u')\n",
    "    word = word.replace('ù','u')\n",
    "    word = word.replace('ü','u')\n",
    "    return word.upper()"
   ]
  },
  {
   "cell_type": "code",
   "execution_count": 37,
   "metadata": {},
   "outputs": [],
   "source": [
    "ender_semaf['Log1'] = ender_semaf['Endereco'].apply(lambda x: remove_accents(re.match(r'(.*) X (.*)', x).groups()[0]))\n",
    "ender_semaf['Log2'] = ender_semaf['Endereco'].apply(lambda x: remove_accents(re.match(r'(.*) X (.*)', x).groups()[1]))"
   ]
  },
  {
   "cell_type": "markdown",
   "metadata": {},
   "source": [
    "Tentativa de Casamento dos endereços de cruzamento dos semáforos com os de cruzamento do de acidentes.\n",
    "Demora MUITO;\n",
    "Talvez melhore se der uma filtrada só pelos cruzamentos do dataset;\n",
    "Porém não tá funcionando!!!"
   ]
  },
  {
   "cell_type": "code",
   "execution_count": 39,
   "metadata": {},
   "outputs": [],
   "source": [
    "def has_semaf(log1, log2, semaf_log1, semaf_log2):\n",
    "    if (semaf_log1 in log1 and semaf_log2 in log2) or \\\n",
    "        (semaf_log1 in log1 and log2 in semaf_log2) or \\\n",
    "        (log1 in semaf_log1 and semaf_log2 in log2) or \\\n",
    "        (log1 in semaf_log1 and log2 in semaf_log2):\n",
    "        return True\n",
    "    else:\n",
    "        return False"
   ]
  },
  {
   "cell_type": "code",
   "execution_count": null,
   "metadata": {},
   "outputs": [],
   "source": [
    "semaf_data = []\n",
    "acidents_data_aux = acidents_data.dropna(subset=['LOG1', 'LOG2'])\n",
    "for i, data in acidents_data_aux.iterrows():\n",
    "    has_semaforo = False\n",
    "    for j, semaf in ender_semaf.iterrows():\n",
    "        has_semaforo = has_semaforo or has_semaf(data['LOG1'], data['LOG2'], semaf['Log1'], semaf['Log2'])\n",
    "        if has_semaforo:\n",
    "            break\n",
    "    if has_semaforo:\n",
    "        semaf_data.append(1)\n",
    "    else:\n",
    "        semaf_data.append(0)\n",
    "        \n",
    "semaf_data"
   ]
  },
  {
   "cell_type": "code",
   "execution_count": 41,
   "metadata": {},
   "outputs": [],
   "source": [
    "def getNumberAdress(adress):\n",
    "    number = re.search('\\d+(?![\\d+a-z])', adress)\n",
    "    return number.group() if number is not None else np.nan\n",
    "\n",
    "def fixAdress(adress):\n",
    "    invalidWord = ['entre', 'defronte', 'nro', 'corredor']\n",
    "    fix = adress.split(' ')\n",
    "    rightAdress = ''\n",
    "    for word in fix:\n",
    "        if word.lower() in invalidWord or len(word) == 1:\n",
    "            break\n",
    "        else:\n",
    "            rightAdress += word + ' '\n",
    "    return rightAdress[:-1]"
   ]
  },
  {
   "cell_type": "code",
   "execution_count": 42,
   "metadata": {},
   "outputs": [
    {
     "data": {
      "text/html": [
       "<div>\n",
       "<style scoped>\n",
       "    .dataframe tbody tr th:only-of-type {\n",
       "        vertical-align: middle;\n",
       "    }\n",
       "\n",
       "    .dataframe tbody tr th {\n",
       "        vertical-align: top;\n",
       "    }\n",
       "\n",
       "    .dataframe thead th {\n",
       "        text-align: right;\n",
       "    }\n",
       "</style>\n",
       "<table border=\"1\" class=\"dataframe\">\n",
       "  <thead>\n",
       "    <tr style=\"text-align: right;\">\n",
       "      <th></th>\n",
       "      <th>Endereco_detalhado</th>\n",
       "      <th>Endereco</th>\n",
       "      <th>Numero</th>\n",
       "    </tr>\n",
       "  </thead>\n",
       "  <tbody>\n",
       "    <tr>\n",
       "      <th>0</th>\n",
       "      <td>Av. Antônio de Carvalho 1655</td>\n",
       "      <td>Av. Antônio de Carvalho</td>\n",
       "      <td>1655</td>\n",
       "    </tr>\n",
       "    <tr>\n",
       "      <th>1</th>\n",
       "      <td>Av. Antônio de Carvalho entre 1800 e 1820</td>\n",
       "      <td>Av. Antônio de Carvalho</td>\n",
       "      <td>1800</td>\n",
       "    </tr>\n",
       "    <tr>\n",
       "      <th>2</th>\n",
       "      <td>Antônio de Carvalho 2320</td>\n",
       "      <td>Antônio de Carvalho</td>\n",
       "      <td>2320</td>\n",
       "    </tr>\n",
       "    <tr>\n",
       "      <th>3</th>\n",
       "      <td>Av. Antônio de Carvalho a 10m do nro 2079 -</td>\n",
       "      <td>Av. Antônio de Carvalho</td>\n",
       "      <td>2079</td>\n",
       "    </tr>\n",
       "    <tr>\n",
       "      <th>4</th>\n",
       "      <td>Mal. José Inácio da Silva a 14 5m da Rua Nova ...</td>\n",
       "      <td>Mal. José Inácio da Silva</td>\n",
       "      <td>14</td>\n",
       "    </tr>\n",
       "  </tbody>\n",
       "</table>\n",
       "</div>"
      ],
      "text/plain": [
       "                                  Endereco_detalhado  \\\n",
       "0                       Av. Antônio de Carvalho 1655   \n",
       "1          Av. Antônio de Carvalho entre 1800 e 1820   \n",
       "2                           Antônio de Carvalho 2320   \n",
       "3        Av. Antônio de Carvalho a 10m do nro 2079 -   \n",
       "4  Mal. José Inácio da Silva a 14 5m da Rua Nova ...   \n",
       "\n",
       "                    Endereco Numero  \n",
       "0   Av. Antônio de Carvalho    1655  \n",
       "1    Av. Antônio de Carvalho   1800  \n",
       "2       Antônio de Carvalho    2320  \n",
       "3    Av. Antônio de Carvalho   2079  \n",
       "4  Mal. José Inácio da Silva     14  "
      ]
     },
     "execution_count": 42,
     "metadata": {},
     "output_type": "execute_result"
    }
   ],
   "source": [
    "eletronic_spine['Endereco'] = eletronic_spine['Endereco_detalhado'].apply(lambda x: fixAdress(re.sub('[\\d+]', '', x)))\n",
    "eletronic_spine['Numero'] = eletronic_spine['Endereco_detalhado'].apply(lambda x: getNumberAdress(x))\n",
    "eletronic_spine.head()"
   ]
  },
  {
   "cell_type": "code",
   "execution_count": 43,
   "metadata": {},
   "outputs": [
    {
     "data": {
      "text/html": [
       "<div>\n",
       "<style scoped>\n",
       "    .dataframe tbody tr th:only-of-type {\n",
       "        vertical-align: middle;\n",
       "    }\n",
       "\n",
       "    .dataframe tbody tr th {\n",
       "        vertical-align: top;\n",
       "    }\n",
       "\n",
       "    .dataframe thead th {\n",
       "        text-align: right;\n",
       "    }\n",
       "</style>\n",
       "<table border=\"1\" class=\"dataframe\">\n",
       "  <thead>\n",
       "    <tr style=\"text-align: right;\">\n",
       "      <th></th>\n",
       "      <th>Logradouro</th>\n",
       "      <th>Endereco</th>\n",
       "      <th>Numero</th>\n",
       "    </tr>\n",
       "  </thead>\n",
       "  <tbody>\n",
       "    <tr>\n",
       "      <th>0</th>\n",
       "      <td>Av. Assis Brasil 4935</td>\n",
       "      <td>Av. Assis Brasil</td>\n",
       "      <td>4935</td>\n",
       "    </tr>\n",
       "    <tr>\n",
       "      <th>1</th>\n",
       "      <td>Av. Assis Brasil defronte 4945</td>\n",
       "      <td>Av. Assis Brasil</td>\n",
       "      <td>4945</td>\n",
       "    </tr>\n",
       "    <tr>\n",
       "      <th>2</th>\n",
       "      <td>Av. Assis Brasil 8207</td>\n",
       "      <td>Av. Assis Brasil</td>\n",
       "      <td>8207</td>\n",
       "    </tr>\n",
       "    <tr>\n",
       "      <th>3</th>\n",
       "      <td>Av. Assis Brasil 8292</td>\n",
       "      <td>Av. Assis Brasil</td>\n",
       "      <td>8292</td>\n",
       "    </tr>\n",
       "    <tr>\n",
       "      <th>4</th>\n",
       "      <td>Av. Bento Gonçalves 4021</td>\n",
       "      <td>Av. Bento Gonçalves</td>\n",
       "      <td>4021</td>\n",
       "    </tr>\n",
       "  </tbody>\n",
       "</table>\n",
       "</div>"
      ],
      "text/plain": [
       "                       Logradouro              Endereco Numero\n",
       "0           Av. Assis Brasil 4935     Av. Assis Brasil    4935\n",
       "1  Av. Assis Brasil defronte 4945      Av. Assis Brasil   4945\n",
       "2           Av. Assis Brasil 8207     Av. Assis Brasil    8207\n",
       "3           Av. Assis Brasil 8292     Av. Assis Brasil    8292\n",
       "4        Av. Bento Gonçalves 4021  Av. Bento Gonçalves    4021"
      ]
     },
     "execution_count": 43,
     "metadata": {},
     "output_type": "execute_result"
    }
   ],
   "source": [
    "sparrow['Endereco'] = sparrow['Logradouro'].apply(lambda x: fixAdress(re.sub('[\\d+]', '', x)))\n",
    "sparrow['Numero'] = sparrow['Logradouro'].apply(lambda x: getNumberAdress(x))\n",
    "sparrow.head()"
   ]
  },
  {
   "cell_type": "code",
   "execution_count": 44,
   "metadata": {},
   "outputs": [
    {
     "data": {
      "text/html": [
       "<div>\n",
       "<style scoped>\n",
       "    .dataframe tbody tr th:only-of-type {\n",
       "        vertical-align: middle;\n",
       "    }\n",
       "\n",
       "    .dataframe tbody tr th {\n",
       "        vertical-align: top;\n",
       "    }\n",
       "\n",
       "    .dataframe thead th {\n",
       "        text-align: right;\n",
       "    }\n",
       "</style>\n",
       "<table border=\"1\" class=\"dataframe\">\n",
       "  <thead>\n",
       "    <tr style=\"text-align: right;\">\n",
       "      <th></th>\n",
       "      <th>id</th>\n",
       "      <th>situacao</th>\n",
       "      <th>nome</th>\n",
       "    </tr>\n",
       "  </thead>\n",
       "  <tbody>\n",
       "    <tr>\n",
       "      <th>0</th>\n",
       "      <td>1</td>\n",
       "      <td>CONCLUIDO</td>\n",
       "      <td>JOAO PESSOA</td>\n",
       "    </tr>\n",
       "    <tr>\n",
       "      <th>1</th>\n",
       "      <td>2</td>\n",
       "      <td>CONCLUIDO</td>\n",
       "      <td>JOAO ANTONIO SILVEIRA</td>\n",
       "    </tr>\n",
       "    <tr>\n",
       "      <th>2</th>\n",
       "      <td>3</td>\n",
       "      <td>CONCLUIDO</td>\n",
       "      <td>JOAO ANTONIO SILVEIRA</td>\n",
       "    </tr>\n",
       "    <tr>\n",
       "      <th>3</th>\n",
       "      <td>4</td>\n",
       "      <td>CONCLUIDO</td>\n",
       "      <td>JOAO ANTONIO SILVEIRA</td>\n",
       "    </tr>\n",
       "    <tr>\n",
       "      <th>4</th>\n",
       "      <td>5</td>\n",
       "      <td>CONCLUIDO</td>\n",
       "      <td>JOAO ANTONIO SILVEIRA</td>\n",
       "    </tr>\n",
       "  </tbody>\n",
       "</table>\n",
       "</div>"
      ],
      "text/plain": [
       "   id   situacao                   nome\n",
       "0   1  CONCLUIDO            JOAO PESSOA\n",
       "1   2  CONCLUIDO  JOAO ANTONIO SILVEIRA\n",
       "2   3  CONCLUIDO  JOAO ANTONIO SILVEIRA\n",
       "3   4  CONCLUIDO  JOAO ANTONIO SILVEIRA\n",
       "4   5  CONCLUIDO  JOAO ANTONIO SILVEIRA"
      ]
     },
     "execution_count": 44,
     "metadata": {},
     "output_type": "execute_result"
    }
   ],
   "source": [
    "bike_path = bike_path.drop(columns=['geojson'])\n",
    "bike_path.head()"
   ]
  },
  {
   "cell_type": "markdown",
   "metadata": {},
   "source": [
    "Calcular distância entre linha e ponto"
   ]
  },
  {
   "cell_type": "code",
   "execution_count": 110,
   "metadata": {},
   "outputs": [],
   "source": [
    "def dis(latA, lonA, latB, lonB):\n",
    "    R = 6371000\n",
    "    d = math.acos( math.sin(latA)* math.sin(latB) + math.cos(latA)*math.cos(latB)*math.cos(lonB-lonA) ) * R\n",
    "    return d\n",
    "\n",
    "def bear( latA,lonA,latB,lonB ):\n",
    "    b = math.atan2( math.sin(lonB-lonA)*math.cos(latB) , math.cos(latA)*math.sin(latB) - math.sin(latA)*math.cos(latB)*math.cos(lonB-lonA) )\n",
    "    return b\n",
    "\n",
    "def crossarc(lat1,lon1,lat2,lon2,lat3,lon3):\n",
    "    lat1= math.radians(lat1) \n",
    "    lat2= math.radians(lat2)\n",
    "    lat3= math.radians(lat3)\n",
    "    lon1= math.radians(lon1)\n",
    "    lon2= math.radians(lon2)\n",
    "    lon3= math.radians(lon3)\n",
    "\n",
    "    R=6371000\n",
    "    \n",
    "    bear12 = bear(lat1,lon1,lat2,lon2)\n",
    "    bear13 = bear(lat1,lon1,lat3,lon3)\n",
    "    dis13 = dis(lat1,lon1,lat3,lon3)\n",
    "    dxa = 0.0\n",
    "    if math.fabs(bear13-bear12)>(math.pi/2):\n",
    "        dxa = dis13\n",
    "    else:\n",
    "        dxt = math.asin( math.sin(dis13/R)* math.sin(bear13 - bear12) ) * R\n",
    "        dis12 = dis(lat1,lon1,lat2,lon2);\n",
    "        dis14 = math.acos( cos(dis13/R) / math.cos(dxt/R) ) * R;\n",
    "        if dis14>dis12:\n",
    "            dxa=dis(lat2,lon2,lat3,lon3);\n",
    "        else:\n",
    "            dxa=math.fabs(dxt);\n",
    "    return dxa"
   ]
  },
  {
   "cell_type": "code",
   "execution_count": 111,
   "metadata": {},
   "outputs": [
    {
     "ename": "NameError",
     "evalue": "name 'cos' is not defined",
     "output_type": "error",
     "traceback": [
      "\u001b[1;31m---------------------------------------------------------------------------\u001b[0m",
      "\u001b[1;31mNameError\u001b[0m                                 Traceback (most recent call last)",
      "\u001b[1;32m<ipython-input-111-0d4d0b14d46d>\u001b[0m in \u001b[0;36m<module>\u001b[1;34m()\u001b[0m\n\u001b[1;32m----> 1\u001b[1;33m \u001b[0mprint\u001b[0m\u001b[1;33m(\u001b[0m\u001b[0mcrossarc\u001b[0m\u001b[1;33m(\u001b[0m\u001b[1;36m51\u001b[0m\u001b[1;33m,\u001b[0m\u001b[1;36m32\u001b[0m\u001b[1;33m,\u001b[0m\u001b[1;36m51\u001b[0m\u001b[1;33m,\u001b[0m\u001b[1;36m32\u001b[0m\u001b[1;33m,\u001b[0m\u001b[1;36m47\u001b[0m\u001b[1;33m,\u001b[0m\u001b[1;36m98\u001b[0m\u001b[1;33m)\u001b[0m\u001b[1;33m)\u001b[0m\u001b[1;33m\u001b[0m\u001b[0m\n\u001b[0m",
      "\u001b[1;32m<ipython-input-110-1f76ad6a7c49>\u001b[0m in \u001b[0;36mcrossarc\u001b[1;34m(lat1, lon1, lat2, lon2, lat3, lon3)\u001b[0m\n\u001b[0;32m     27\u001b[0m         \u001b[0mdxt\u001b[0m \u001b[1;33m=\u001b[0m \u001b[0mmath\u001b[0m\u001b[1;33m.\u001b[0m\u001b[0masin\u001b[0m\u001b[1;33m(\u001b[0m \u001b[0mmath\u001b[0m\u001b[1;33m.\u001b[0m\u001b[0msin\u001b[0m\u001b[1;33m(\u001b[0m\u001b[0mdis13\u001b[0m\u001b[1;33m/\u001b[0m\u001b[0mR\u001b[0m\u001b[1;33m)\u001b[0m\u001b[1;33m*\u001b[0m \u001b[0mmath\u001b[0m\u001b[1;33m.\u001b[0m\u001b[0msin\u001b[0m\u001b[1;33m(\u001b[0m\u001b[0mbear13\u001b[0m \u001b[1;33m-\u001b[0m \u001b[0mbear12\u001b[0m\u001b[1;33m)\u001b[0m \u001b[1;33m)\u001b[0m \u001b[1;33m*\u001b[0m \u001b[0mR\u001b[0m\u001b[1;33m\u001b[0m\u001b[0m\n\u001b[0;32m     28\u001b[0m         \u001b[0mdis12\u001b[0m \u001b[1;33m=\u001b[0m \u001b[0mdis\u001b[0m\u001b[1;33m(\u001b[0m\u001b[0mlat1\u001b[0m\u001b[1;33m,\u001b[0m\u001b[0mlon1\u001b[0m\u001b[1;33m,\u001b[0m\u001b[0mlat2\u001b[0m\u001b[1;33m,\u001b[0m\u001b[0mlon2\u001b[0m\u001b[1;33m)\u001b[0m\u001b[1;33m;\u001b[0m\u001b[1;33m\u001b[0m\u001b[0m\n\u001b[1;32m---> 29\u001b[1;33m         \u001b[0mdis14\u001b[0m \u001b[1;33m=\u001b[0m \u001b[0mmath\u001b[0m\u001b[1;33m.\u001b[0m\u001b[0macos\u001b[0m\u001b[1;33m(\u001b[0m \u001b[0mcos\u001b[0m\u001b[1;33m(\u001b[0m\u001b[0mdis13\u001b[0m\u001b[1;33m/\u001b[0m\u001b[0mR\u001b[0m\u001b[1;33m)\u001b[0m \u001b[1;33m/\u001b[0m \u001b[0mmath\u001b[0m\u001b[1;33m.\u001b[0m\u001b[0mcos\u001b[0m\u001b[1;33m(\u001b[0m\u001b[0mdxt\u001b[0m\u001b[1;33m/\u001b[0m\u001b[0mR\u001b[0m\u001b[1;33m)\u001b[0m \u001b[1;33m)\u001b[0m \u001b[1;33m*\u001b[0m \u001b[0mR\u001b[0m\u001b[1;33m;\u001b[0m\u001b[1;33m\u001b[0m\u001b[0m\n\u001b[0m\u001b[0;32m     30\u001b[0m         \u001b[1;32mif\u001b[0m \u001b[0mdis14\u001b[0m\u001b[1;33m>\u001b[0m\u001b[0mdis12\u001b[0m\u001b[1;33m:\u001b[0m\u001b[1;33m\u001b[0m\u001b[0m\n\u001b[0;32m     31\u001b[0m             \u001b[0mdxa\u001b[0m\u001b[1;33m=\u001b[0m\u001b[0mdis\u001b[0m\u001b[1;33m(\u001b[0m\u001b[0mlat2\u001b[0m\u001b[1;33m,\u001b[0m\u001b[0mlon2\u001b[0m\u001b[1;33m,\u001b[0m\u001b[0mlat3\u001b[0m\u001b[1;33m,\u001b[0m\u001b[0mlon3\u001b[0m\u001b[1;33m)\u001b[0m\u001b[1;33m;\u001b[0m\u001b[1;33m\u001b[0m\u001b[0m\n",
      "\u001b[1;31mNameError\u001b[0m: name 'cos' is not defined"
     ]
    }
   ],
   "source": [
    "print(crossarc(51,32,51,32,47,98))"
   ]
  },
  {
   "cell_type": "markdown",
   "metadata": {},
   "source": [
    "# Visualizações"
   ]
  },
  {
   "cell_type": "code",
   "execution_count": 46,
   "metadata": {
    "scrolled": true
   },
   "outputs": [
    {
     "data": {
      "text/plain": [
       "Index(['ID', 'LONGITUDE', 'LATITUDE', 'LOG1', 'LOG2', 'PREDIAL1', 'LOCAL',\n",
       "       'TIPO_ACID', 'LOCAL_VIA', 'QUEDA_ARR', 'DATA', 'DATA_HORA', 'DIA_SEM',\n",
       "       'HORA', 'FERIDOS', 'FERIDOS_GR', 'MORTES', 'MORTE_POST', 'FATAIS',\n",
       "       'AUTO', 'TAXI', 'LOTACAO', 'ONIBUS_URB', 'ONIBUS_MET', 'ONIBUS_INT',\n",
       "       'CAMINHAO', 'MOTO', 'CARROCA', 'BICICLETA', 'OUTRO', 'TEMPO',\n",
       "       'NOITE_DIA', 'FONTE', 'BOLETIM', 'REGIAO', 'DIA', 'MES', 'ANO',\n",
       "       'FX_HORA', 'CONT_ACID', 'CONT_VIT', 'UPS', 'CONSORCIO', 'CORREDOR',\n",
       "       'HORA_ACID'],\n",
       "      dtype='object')"
      ]
     },
     "execution_count": 46,
     "metadata": {},
     "output_type": "execute_result"
    }
   ],
   "source": [
    "acidents_data.columns"
   ]
  },
  {
   "cell_type": "code",
   "execution_count": 47,
   "metadata": {},
   "outputs": [
    {
     "data": {
      "text/plain": [
       "NORTE               3834\n",
       "LESTE               3548\n",
       "SUL                 2966\n",
       "CENTRO              2162\n",
       "NAO IDENTIFICADO       5\n",
       "Name: REGIAO, dtype: int64"
      ]
     },
     "execution_count": 47,
     "metadata": {},
     "output_type": "execute_result"
    }
   ],
   "source": [
    "acidents_data['REGIAO'].value_counts()"
   ]
  },
  {
   "cell_type": "code",
   "execution_count": 105,
   "metadata": {},
   "outputs": [
    {
     "data": {
      "text/plain": [
       "<matplotlib.axes._subplots.AxesSubplot at 0x1ff19df6c88>"
      ]
     },
     "execution_count": 105,
     "metadata": {},
     "output_type": "execute_result"
    },
    {
     "data": {
      "image/png": "[encoded data removed]",
      "text/plain": [
       "<Figure size 432x288 with 1 Axes>"
      ]
     },
     "metadata": {},
     "output_type": "display_data"
    }
   ],
   "source": [
    "acident_type = acidents_data['TIPO_ACID'].value_counts()\n",
    "acident_type.plot.barh(logx = True)"
   ]
  },
  {
   "cell_type": "code",
   "execution_count": 49,
   "metadata": {},
   "outputs": [
    {
     "data": {
      "text/plain": [
       "<matplotlib.axes._subplots.AxesSubplot at 0x1ff15ec9cf8>"
      ]
     },
     "execution_count": 49,
     "metadata": {},
     "output_type": "execute_result"
    },
    {
     "data": {
      "image/png": "[encoded data removed]",
      "text/plain": [
       "<Figure size 432x288 with 1 Axes>"
      ]
     },
     "metadata": {},
     "output_type": "display_data"
    }
   ],
   "source": [
    "vehicle = acidents_data[[ 'AUTO', 'TAXI', 'LOTACAO', 'ONIBUS_URB', 'ONIBUS_MET', 'ONIBUS_INT',\n",
    "       'CAMINHAO', 'MOTO', 'CARROCA', 'BICICLETA', 'OUTRO']].sum().sort_values(ascending=False)\n",
    "vehicle.plot.barh(logx=True)"
   ]
  },
  {
   "cell_type": "markdown",
   "metadata": {},
   "source": [
    " Analise temporal dos acidentes"
   ]
  },
  {
   "cell_type": "code",
   "execution_count": 50,
   "metadata": {},
   "outputs": [
    {
     "data": {
      "text/plain": [
       "<matplotlib.axes._subplots.AxesSubplot at 0x1ff16fe4940>"
      ]
     },
     "execution_count": 50,
     "metadata": {},
     "output_type": "execute_result"
    },
    {
     "data": {
      "image/png": "[encoded data removed]",
      "text/plain": [
       "<Figure size 432x288 with 1 Axes>"
      ]
     },
     "metadata": {},
     "output_type": "display_data"
    }
   ],
   "source": [
    "number_acidents_hour = acidents_data['HORA_ACID'].value_counts()\n",
    "number_acidents_hour.plot.bar()"
   ]
  },
  {
   "cell_type": "code",
   "execution_count": 51,
   "metadata": {},
   "outputs": [
    {
     "data": {
      "text/plain": [
       "<matplotlib.axes._subplots.AxesSubplot at 0x1ff1708a160>"
      ]
     },
     "execution_count": 51,
     "metadata": {},
     "output_type": "execute_result"
    },
    {
     "data": {
      "image/png": "[encoded data removed]",
      "text/plain": [
       "<Figure size 432x288 with 1 Axes>"
      ]
     },
     "metadata": {},
     "output_type": "display_data"
    }
   ],
   "source": [
    "number_acidents_day = acidents_data['DIA_SEM'].value_counts()\n",
    "number_acidents_day.plot.barh()"
   ]
  },
  {
   "cell_type": "code",
   "execution_count": 128,
   "metadata": {},
   "outputs": [
    {
     "data": {
      "text/plain": [
       "<matplotlib.axes._subplots.AxesSubplot at 0x1c8406aac18>"
      ]
     },
     "execution_count": 128,
     "metadata": {},
     "output_type": "execute_result"
    },
    {
     "data": {
      "image/png": "[encoded data removed]",
      "text/plain": [
       "<Figure size 432x288 with 1 Axes>"
      ]
     },
     "metadata": {},
     "output_type": "display_data"
    }
   ],
   "source": [
    "number_acidents_month = acidents_data['MES'].value_counts()\n",
    "number_acidents_month.plot.barh()"
   ]
  },
  {
   "cell_type": "markdown",
   "metadata": {},
   "source": [
    "Analise de pessoas envolvidas nos acidentes por regiões"
   ]
  },
  {
   "cell_type": "code",
   "execution_count": 86,
   "metadata": {},
   "outputs": [
    {
     "data": {
      "text/plain": [
       "<matplotlib.axes._subplots.AxesSubplot at 0x1ff193dbd30>"
      ]
     },
     "execution_count": 86,
     "metadata": {},
     "output_type": "execute_result"
    },
    {
     "data": {
      "image/png": "[encoded data removed]",
      "text/plain": [
       "<Figure size 432x288 with 1 Axes>"
      ]
     },
     "metadata": {},
     "output_type": "display_data"
    }
   ],
   "source": [
    "hurt_amount_region = acidents_data.groupby(\"REGIAO\")[['FERIDOS', 'FERIDOS_GR', 'MORTES']].sum()\n",
    "hurt_amount_region.drop(['NAO IDENTIFICADO']).plot.bar(logy=True)"
   ]
  },
  {
   "cell_type": "markdown",
   "metadata": {},
   "source": [
    "### Hipótese: Existe uma relação entre a natureza do acidente com a quantidade de vítimas?"
   ]
  },
  {
   "cell_type": "code",
   "execution_count": 106,
   "metadata": {},
   "outputs": [
    {
     "data": {
      "text/plain": [
       "<matplotlib.axes._subplots.AxesSubplot at 0x1ff19054a58>"
      ]
     },
     "execution_count": 106,
     "metadata": {},
     "output_type": "execute_result"
    },
    {
     "data": {
      "image/png": "[encoded data removed]",
      "text/plain": [
       "<Figure size 432x288 with 1 Axes>"
      ]
     },
     "metadata": {},
     "output_type": "display_data"
    }
   ],
   "source": [
    "acident_type_vic = acidents_data.groupby(\"TIPO_ACID\")['CONT_VIT'].sum().sort_values(ascending=False)\n",
    "acident_type_vic.plot.barh(logx=True)"
   ]
  }
 ],
 "metadata": {
  "kernelspec": {
   "display_name": "Python 3",
   "language": "python",
   "name": "python3"
  },
  "language_info": {
   "codemirror_mode": {
    "name": "ipython",
    "version": 3
   },
   "file_extension": ".py",
   "mimetype": "text/x-python",
   "name": "python",
   "nbconvert_exporter": "python",
   "pygments_lexer": "ipython3",
   "version": "3.6.5"
  }
 },
 "nbformat": 4,
 "nbformat_minor": 2
}
